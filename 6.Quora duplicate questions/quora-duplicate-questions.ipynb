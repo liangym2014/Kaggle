{
 "cells": [
  {
   "cell_type": "markdown",
   "metadata": {},
   "source": [
    "#  Quora Duplicate qns\n",
    "Can you identify question pairs that have the same intent?\n",
    "\n",
    "About Dataset\n",
    "Over 100 million people visit Quora every month, so it's no surprise that many people ask similarly worded questions. Multiple questions with the same intent can cause seekers to spend more time finding the best answer to their question, and make writers feel they need to answer multiple versions of the same question. Quora values canonical questions because they provide a better experience to active seekers and writers, and offer more value to both of these groups in the long term."
   ]
  },
  {
   "cell_type": "code",
   "execution_count": 1,
   "metadata": {
    "execution": {
     "iopub.execute_input": "2022-06-19T06:12:01.418879Z",
     "iopub.status.busy": "2022-06-19T06:12:01.418474Z",
     "iopub.status.idle": "2022-06-19T06:12:14.104474Z",
     "shell.execute_reply": "2022-06-19T06:12:14.101897Z",
     "shell.execute_reply.started": "2022-06-19T06:12:01.418845Z"
    }
   },
   "outputs": [],
   "source": [
    "# pip install contractions"
   ]
  },
  {
   "cell_type": "code",
   "execution_count": 2,
   "metadata": {
    "execution": {
     "iopub.execute_input": "2022-06-19T06:12:14.109866Z",
     "iopub.status.busy": "2022-06-19T06:12:14.109204Z",
     "iopub.status.idle": "2022-06-19T06:12:25.596949Z",
     "shell.execute_reply": "2022-06-19T06:12:25.595631Z",
     "shell.execute_reply.started": "2022-06-19T06:12:14.109806Z"
    }
   },
   "outputs": [],
   "source": [
    "# pip install --upgrade nltk"
   ]
  },
  {
   "cell_type": "code",
   "execution_count": 3,
   "metadata": {},
   "outputs": [],
   "source": [
    "# pip install --upgrade tensorflow"
   ]
  },
  {
   "cell_type": "code",
   "execution_count": 4,
   "metadata": {
    "execution": {
     "iopub.execute_input": "2022-06-19T06:12:25.600679Z",
     "iopub.status.busy": "2022-06-19T06:12:25.600286Z",
     "iopub.status.idle": "2022-06-19T06:12:26.455640Z",
     "shell.execute_reply": "2022-06-19T06:12:26.454163Z",
     "shell.execute_reply.started": "2022-06-19T06:12:25.600641Z"
    }
   },
   "outputs": [],
   "source": [
    "PYTHONHASHSEED=0\n",
    "import random as python_random\n",
    "import pandas as pd\n",
    "import numpy as np\n",
    "import matplotlib.pyplot as plt\n",
    "%matplotlib inline\n",
    "import seaborn as sns\n",
    "\n",
    "from sklearn.metrics import confusion_matrix, recall_score, precision_score\n",
    "from sklearn.model_selection import train_test_split\n",
    "import tensorflow as tf\n",
    "from tensorflow.keras.layers import TextVectorization, Dense, LSTM, Embedding, Lambda, InputLayer, Bidirectional, Dropout \n",
    "from tensorflow.keras import Sequential, Model, Input\n",
    "from tensorflow.keras.callbacks import EarlyStopping\n",
    "\n",
    "from collections import Counter, defaultdict\n",
    "import contractions\n",
    "import re\n",
    "import string\n",
    "import nltk\n",
    "from nltk.tokenize import word_tokenize\n",
    "from nltk.stem.porter import PorterStemmer\n",
    "from nltk.corpus import stopwords\n",
    "\n",
    "np.random.seed(123)\n",
    "python_random.seed(123)\n",
    "tf.random.set_seed(1234)"
   ]
  },
  {
   "cell_type": "code",
   "execution_count": 5,
   "metadata": {},
   "outputs": [],
   "source": [
    "# nltk.download('punkt')"
   ]
  },
  {
   "cell_type": "code",
   "execution_count": 6,
   "metadata": {},
   "outputs": [],
   "source": [
    "# nltk.download('stopwords')"
   ]
  },
  {
   "cell_type": "markdown",
   "metadata": {},
   "source": [
    "# Import Data"
   ]
  },
  {
   "cell_type": "code",
   "execution_count": 7,
   "metadata": {
    "execution": {
     "iopub.execute_input": "2022-06-19T06:12:26.459862Z",
     "iopub.status.busy": "2022-06-19T06:12:26.459395Z",
     "iopub.status.idle": "2022-06-19T06:12:26.893006Z",
     "shell.execute_reply": "2022-06-19T06:12:26.891878Z",
     "shell.execute_reply.started": "2022-06-19T06:12:26.459821Z"
    }
   },
   "outputs": [
    {
     "data": {
      "text/html": [
       "<div>\n",
       "<style scoped>\n",
       "    .dataframe tbody tr th:only-of-type {\n",
       "        vertical-align: middle;\n",
       "    }\n",
       "\n",
       "    .dataframe tbody tr th {\n",
       "        vertical-align: top;\n",
       "    }\n",
       "\n",
       "    .dataframe thead th {\n",
       "        text-align: right;\n",
       "    }\n",
       "</style>\n",
       "<table border=\"1\" class=\"dataframe\">\n",
       "  <thead>\n",
       "    <tr style=\"text-align: right;\">\n",
       "      <th></th>\n",
       "      <th>Unnamed: 0</th>\n",
       "      <th>index</th>\n",
       "      <th>id</th>\n",
       "      <th>qid1</th>\n",
       "      <th>qid2</th>\n",
       "      <th>question1</th>\n",
       "      <th>question2</th>\n",
       "      <th>is_duplicate</th>\n",
       "    </tr>\n",
       "  </thead>\n",
       "  <tbody>\n",
       "    <tr>\n",
       "      <th>0</th>\n",
       "      <td>0</td>\n",
       "      <td>8067</td>\n",
       "      <td>8067</td>\n",
       "      <td>15738</td>\n",
       "      <td>15739</td>\n",
       "      <td>How do I play Pokémon GO in Korea?</td>\n",
       "      <td>How do I play Pokémon GO in China?</td>\n",
       "      <td>0</td>\n",
       "    </tr>\n",
       "    <tr>\n",
       "      <th>1</th>\n",
       "      <td>1</td>\n",
       "      <td>368101</td>\n",
       "      <td>368101</td>\n",
       "      <td>12736</td>\n",
       "      <td>104117</td>\n",
       "      <td>What are some of the best side dishes for crab...</td>\n",
       "      <td>What are some good side dishes for buffalo chi...</td>\n",
       "      <td>0</td>\n",
       "    </tr>\n",
       "    <tr>\n",
       "      <th>2</th>\n",
       "      <td>2</td>\n",
       "      <td>70497</td>\n",
       "      <td>70497</td>\n",
       "      <td>121486</td>\n",
       "      <td>121487</td>\n",
       "      <td>Which is more advisable and better material fo...</td>\n",
       "      <td>What is the best server setup for buddypress?</td>\n",
       "      <td>0</td>\n",
       "    </tr>\n",
       "    <tr>\n",
       "      <th>3</th>\n",
       "      <td>3</td>\n",
       "      <td>226567</td>\n",
       "      <td>226567</td>\n",
       "      <td>254474</td>\n",
       "      <td>258192</td>\n",
       "      <td>How do I improve logical programming skills?</td>\n",
       "      <td>How can I improve my logical skills for progra...</td>\n",
       "      <td>1</td>\n",
       "    </tr>\n",
       "    <tr>\n",
       "      <th>4</th>\n",
       "      <td>4</td>\n",
       "      <td>73186</td>\n",
       "      <td>73186</td>\n",
       "      <td>48103</td>\n",
       "      <td>3062</td>\n",
       "      <td>How close we are to see 3rd world war?</td>\n",
       "      <td>How close is a World War III?</td>\n",
       "      <td>1</td>\n",
       "    </tr>\n",
       "  </tbody>\n",
       "</table>\n",
       "</div>"
      ],
      "text/plain": [
       "   Unnamed: 0   index      id    qid1    qid2  \\\n",
       "0           0    8067    8067   15738   15739   \n",
       "1           1  368101  368101   12736  104117   \n",
       "2           2   70497   70497  121486  121487   \n",
       "3           3  226567  226567  254474  258192   \n",
       "4           4   73186   73186   48103    3062   \n",
       "\n",
       "                                           question1  \\\n",
       "0                 How do I play Pokémon GO in Korea?   \n",
       "1  What are some of the best side dishes for crab...   \n",
       "2  Which is more advisable and better material fo...   \n",
       "3       How do I improve logical programming skills?   \n",
       "4             How close we are to see 3rd world war?   \n",
       "\n",
       "                                           question2  is_duplicate  \n",
       "0                 How do I play Pokémon GO in China?             0  \n",
       "1  What are some good side dishes for buffalo chi...             0  \n",
       "2      What is the best server setup for buddypress?             0  \n",
       "3  How can I improve my logical skills for progra...             1  \n",
       "4                      How close is a World War III?             1  "
      ]
     },
     "execution_count": 7,
     "metadata": {},
     "output_type": "execute_result"
    }
   ],
   "source": [
    "quora = pd.read_csv(\"quora.csv\")\n",
    "quora.head()"
   ]
  },
  {
   "cell_type": "code",
   "execution_count": 8,
   "metadata": {
    "execution": {
     "iopub.execute_input": "2022-06-19T06:12:26.895711Z",
     "iopub.status.busy": "2022-06-19T06:12:26.894979Z",
     "iopub.status.idle": "2022-06-19T06:12:26.904231Z",
     "shell.execute_reply": "2022-06-19T06:12:26.902884Z",
     "shell.execute_reply.started": "2022-06-19T06:12:26.895647Z"
    }
   },
   "outputs": [
    {
     "data": {
      "text/plain": [
       "(100000, 8)"
      ]
     },
     "execution_count": 8,
     "metadata": {},
     "output_type": "execute_result"
    }
   ],
   "source": [
    "quora.shape"
   ]
  },
  {
   "cell_type": "code",
   "execution_count": 9,
   "metadata": {
    "execution": {
     "iopub.execute_input": "2022-06-19T06:12:26.906535Z",
     "iopub.status.busy": "2022-06-19T06:12:26.905984Z",
     "iopub.status.idle": "2022-06-19T06:12:26.956185Z",
     "shell.execute_reply": "2022-06-19T06:12:26.954682Z",
     "shell.execute_reply.started": "2022-06-19T06:12:26.906491Z"
    }
   },
   "outputs": [
    {
     "name": "stdout",
     "output_type": "stream",
     "text": [
      "<class 'pandas.core.frame.DataFrame'>\n",
      "RangeIndex: 100000 entries, 0 to 99999\n",
      "Data columns (total 8 columns):\n",
      " #   Column        Non-Null Count   Dtype \n",
      "---  ------        --------------   ----- \n",
      " 0   Unnamed: 0    100000 non-null  int64 \n",
      " 1   index         100000 non-null  int64 \n",
      " 2   id            100000 non-null  int64 \n",
      " 3   qid1          100000 non-null  int64 \n",
      " 4   qid2          100000 non-null  int64 \n",
      " 5   question1     100000 non-null  object\n",
      " 6   question2     100000 non-null  object\n",
      " 7   is_duplicate  100000 non-null  int64 \n",
      "dtypes: int64(6), object(2)\n",
      "memory usage: 6.1+ MB\n"
     ]
    }
   ],
   "source": [
    "quora.info()"
   ]
  },
  {
   "cell_type": "code",
   "execution_count": 10,
   "metadata": {
    "execution": {
     "iopub.execute_input": "2022-06-19T06:12:26.958927Z",
     "iopub.status.busy": "2022-06-19T06:12:26.958374Z",
     "iopub.status.idle": "2022-06-19T06:12:26.991347Z",
     "shell.execute_reply": "2022-06-19T06:12:26.990507Z",
     "shell.execute_reply.started": "2022-06-19T06:12:26.958832Z"
    }
   },
   "outputs": [
    {
     "name": "stdout",
     "output_type": "stream",
     "text": [
      "Unnamed: 0 100000\n",
      "index 100000\n",
      "id 100000\n",
      "qid1 87035\n",
      "qid2 87347\n",
      "is_duplicate 2\n"
     ]
    }
   ],
   "source": [
    "for col in quora.select_dtypes(\"int64\").columns:\n",
    "    print(col, quora[col].nunique())"
   ]
  },
  {
   "cell_type": "code",
   "execution_count": 11,
   "metadata": {},
   "outputs": [
    {
     "name": "stdout",
     "output_type": "stream",
     "text": [
      "8461     18\n",
      "21712    16\n",
      "38362    15\n",
      "1749     14\n",
      "4951     13\n",
      "159      13\n",
      "8353     12\n",
      "9006     12\n",
      "35043    12\n",
      "6799     12\n",
      "Name: qid1, dtype: int64\n",
      "\n",
      "2559     29\n",
      "4044     26\n",
      "30782    23\n",
      "17978    17\n",
      "28764    17\n",
      "2561     17\n",
      "9262     14\n",
      "30647    14\n",
      "691      14\n",
      "20542    13\n",
      "Name: qid2, dtype: int64\n"
     ]
    }
   ],
   "source": [
    "print(quora.qid1.value_counts()[:10])\n",
    "print()\n",
    "print(quora.qid2.value_counts()[:10])"
   ]
  },
  {
   "cell_type": "code",
   "execution_count": 12,
   "metadata": {
    "execution": {
     "iopub.execute_input": "2022-06-19T06:12:26.993647Z",
     "iopub.status.busy": "2022-06-19T06:12:26.992645Z",
     "iopub.status.idle": "2022-06-19T06:12:27.004359Z",
     "shell.execute_reply": "2022-06-19T06:12:27.002677Z",
     "shell.execute_reply.started": "2022-06-19T06:12:26.993612Z"
    }
   },
   "outputs": [
    {
     "data": {
      "text/plain": [
       "0    0.62879\n",
       "1    0.37121\n",
       "Name: is_duplicate, dtype: float64"
      ]
     },
     "execution_count": 12,
     "metadata": {},
     "output_type": "execute_result"
    }
   ],
   "source": [
    "quora.is_duplicate.value_counts(1)"
   ]
  },
  {
   "cell_type": "markdown",
   "metadata": {},
   "source": [
    "# Data Preprocessing\n",
    "## Split data"
   ]
  },
  {
   "cell_type": "code",
   "execution_count": 13,
   "metadata": {
    "execution": {
     "iopub.execute_input": "2022-06-19T06:12:27.007446Z",
     "iopub.status.busy": "2022-06-19T06:12:27.006677Z",
     "iopub.status.idle": "2022-06-19T06:12:27.126709Z",
     "shell.execute_reply": "2022-06-19T06:12:27.125732Z",
     "shell.execute_reply.started": "2022-06-19T06:12:27.007400Z"
    }
   },
   "outputs": [
    {
     "name": "stdout",
     "output_type": "stream",
     "text": [
      "(85000,) (7500,) (7500,)\n"
     ]
    }
   ],
   "source": [
    "y = quora.is_duplicate\n",
    "X = quora[[\"question1\", \"question2\"]]\n",
    "X_train, X_test, y_train, y_test = train_test_split(X, y, train_size = 0.85, random_state = 80,stratify = y)\n",
    "X_test, X_val, y_test, y_val = train_test_split(X_test, y_test, train_size = 0.5, random_state = 11,stratify = y_test)\n",
    "print(y_train.shape, y_val.shape, y_test.shape)"
   ]
  },
  {
   "cell_type": "code",
   "execution_count": 14,
   "metadata": {},
   "outputs": [
    {
     "data": {
      "text/html": [
       "<div>\n",
       "<style scoped>\n",
       "    .dataframe tbody tr th:only-of-type {\n",
       "        vertical-align: middle;\n",
       "    }\n",
       "\n",
       "    .dataframe tbody tr th {\n",
       "        vertical-align: top;\n",
       "    }\n",
       "\n",
       "    .dataframe thead th {\n",
       "        text-align: right;\n",
       "    }\n",
       "</style>\n",
       "<table border=\"1\" class=\"dataframe\">\n",
       "  <thead>\n",
       "    <tr style=\"text-align: right;\">\n",
       "      <th></th>\n",
       "      <th>question1</th>\n",
       "      <th>question2</th>\n",
       "    </tr>\n",
       "  </thead>\n",
       "  <tbody>\n",
       "    <tr>\n",
       "      <th>77536</th>\n",
       "      <td>How can I use \"Thus far\" in a formal writing?</td>\n",
       "      <td>What are the rules to be followed in formal em...</td>\n",
       "    </tr>\n",
       "    <tr>\n",
       "      <th>66062</th>\n",
       "      <td>What is the average download rate (not CTR) of...</td>\n",
       "      <td>What is the cost per install of iOS app in Fac...</td>\n",
       "    </tr>\n",
       "    <tr>\n",
       "      <th>45903</th>\n",
       "      <td>How do I recover my lost Gmail password if I d...</td>\n",
       "      <td>How do I reset my Gmail password when I don't ...</td>\n",
       "    </tr>\n",
       "    <tr>\n",
       "      <th>29329</th>\n",
       "      <td>What are common required and elective courses ...</td>\n",
       "      <td>What are common required and elective courses ...</td>\n",
       "    </tr>\n",
       "    <tr>\n",
       "      <th>1156</th>\n",
       "      <td>Why was The Nobel prize winning scientist Jame...</td>\n",
       "      <td>Is it true that \"Black People are Less Intelli...</td>\n",
       "    </tr>\n",
       "  </tbody>\n",
       "</table>\n",
       "</div>"
      ],
      "text/plain": [
       "                                               question1  \\\n",
       "77536      How can I use \"Thus far\" in a formal writing?   \n",
       "66062  What is the average download rate (not CTR) of...   \n",
       "45903  How do I recover my lost Gmail password if I d...   \n",
       "29329  What are common required and elective courses ...   \n",
       "1156   Why was The Nobel prize winning scientist Jame...   \n",
       "\n",
       "                                               question2  \n",
       "77536  What are the rules to be followed in formal em...  \n",
       "66062  What is the cost per install of iOS app in Fac...  \n",
       "45903  How do I reset my Gmail password when I don't ...  \n",
       "29329  What are common required and elective courses ...  \n",
       "1156   Is it true that \"Black People are Less Intelli...  "
      ]
     },
     "execution_count": 14,
     "metadata": {},
     "output_type": "execute_result"
    }
   ],
   "source": [
    "X_train.head()"
   ]
  },
  {
   "cell_type": "code",
   "execution_count": 15,
   "metadata": {},
   "outputs": [
    {
     "data": {
      "text/html": [
       "<div>\n",
       "<style scoped>\n",
       "    .dataframe tbody tr th:only-of-type {\n",
       "        vertical-align: middle;\n",
       "    }\n",
       "\n",
       "    .dataframe tbody tr th {\n",
       "        vertical-align: top;\n",
       "    }\n",
       "\n",
       "    .dataframe thead th {\n",
       "        text-align: right;\n",
       "    }\n",
       "</style>\n",
       "<table border=\"1\" class=\"dataframe\">\n",
       "  <thead>\n",
       "    <tr style=\"text-align: right;\">\n",
       "      <th></th>\n",
       "      <th>question1</th>\n",
       "      <th>question2</th>\n",
       "    </tr>\n",
       "  </thead>\n",
       "  <tbody>\n",
       "    <tr>\n",
       "      <th>73762</th>\n",
       "      <td>How do I loose weight fast?</td>\n",
       "      <td>How do I lose weight faster?</td>\n",
       "    </tr>\n",
       "    <tr>\n",
       "      <th>97642</th>\n",
       "      <td>How can I prepare for the World Scholar’s Cup?</td>\n",
       "      <td>How does winning the world scholar's cup help?</td>\n",
       "    </tr>\n",
       "    <tr>\n",
       "      <th>43796</th>\n",
       "      <td>What is the easy way to make money online?</td>\n",
       "      <td>How do you make money online?</td>\n",
       "    </tr>\n",
       "    <tr>\n",
       "      <th>76120</th>\n",
       "      <td>What are the best answers for: \"in 150 charact...</td>\n",
       "      <td>What was the first thing you did after you los...</td>\n",
       "    </tr>\n",
       "    <tr>\n",
       "      <th>39879</th>\n",
       "      <td>Are Nigerians racists?</td>\n",
       "      <td>Are any nigerians white?</td>\n",
       "    </tr>\n",
       "  </tbody>\n",
       "</table>\n",
       "</div>"
      ],
      "text/plain": [
       "                                               question1  \\\n",
       "73762                        How do I loose weight fast?   \n",
       "97642     How can I prepare for the World Scholar’s Cup?   \n",
       "43796         What is the easy way to make money online?   \n",
       "76120  What are the best answers for: \"in 150 charact...   \n",
       "39879                             Are Nigerians racists?   \n",
       "\n",
       "                                               question2  \n",
       "73762                       How do I lose weight faster?  \n",
       "97642     How does winning the world scholar's cup help?  \n",
       "43796                      How do you make money online?  \n",
       "76120  What was the first thing you did after you los...  \n",
       "39879                           Are any nigerians white?  "
      ]
     },
     "execution_count": 15,
     "metadata": {},
     "output_type": "execute_result"
    }
   ],
   "source": [
    "X_test.head()"
   ]
  },
  {
   "cell_type": "markdown",
   "metadata": {},
   "source": [
    "## Pre-process text"
   ]
  },
  {
   "cell_type": "code",
   "execution_count": 16,
   "metadata": {
    "scrolled": false
   },
   "outputs": [
    {
     "data": {
      "text/plain": [
       "array(['i', 'me', 'my', 'myself', 'we', 'our', 'ours', 'ourselves', 'you',\n",
       "       \"you're\", \"you've\", \"you'll\", \"you'd\", 'your', 'yours', 'yourself',\n",
       "       'yourselves', 'he', 'him', 'his', 'himself', 'she', \"she's\", 'her',\n",
       "       'hers', 'herself', 'it', \"it's\", 'its', 'itself', 'they', 'them',\n",
       "       'their', 'theirs', 'themselves', 'what', 'which', 'who', 'whom',\n",
       "       'this', 'that', \"that'll\", 'these', 'those', 'am', 'is', 'are',\n",
       "       'was', 'were', 'be', 'been', 'being', 'have', 'has', 'had',\n",
       "       'having', 'do', 'does', 'did', 'doing', 'a', 'an', 'the', 'and',\n",
       "       'but', 'if', 'or', 'because', 'as', 'until', 'while', 'of', 'at',\n",
       "       'by', 'for', 'with', 'about', 'against', 'between', 'into',\n",
       "       'through', 'during', 'before', 'after', 'above', 'below', 'to',\n",
       "       'from', 'up', 'down', 'in', 'out', 'on', 'off', 'over', 'under',\n",
       "       'again', 'further', 'then', 'once', 'here', 'there', 'when',\n",
       "       'where', 'why', 'how', 'all', 'any', 'both', 'each', 'few', 'more',\n",
       "       'most', 'other', 'some', 'such', 'no', 'nor', 'not', 'only', 'own',\n",
       "       'same', 'so', 'than', 'too', 'very', 's', 't', 'can', 'will',\n",
       "       'just', 'don', \"don't\", 'should', \"should've\", 'now', 'd', 'll',\n",
       "       'm', 'o', 're', 've', 'y', 'ain', 'aren', \"aren't\", 'couldn',\n",
       "       \"couldn't\", 'didn', \"didn't\", 'doesn', \"doesn't\", 'hadn', \"hadn't\",\n",
       "       'hasn', \"hasn't\", 'haven', \"haven't\", 'isn', \"isn't\", 'ma',\n",
       "       'mightn', \"mightn't\", 'mustn', \"mustn't\", 'needn', \"needn't\",\n",
       "       'shan', \"shan't\", 'shouldn', \"shouldn't\", 'wasn', \"wasn't\",\n",
       "       'weren', \"weren't\", 'won', \"won't\", 'wouldn', \"wouldn't\"],\n",
       "      dtype='<U10')"
      ]
     },
     "execution_count": 16,
     "metadata": {},
     "output_type": "execute_result"
    }
   ],
   "source": [
    "stopword_list = stopwords.words(\"english\")\n",
    "np.array(stopword_list)"
   ]
  },
  {
   "cell_type": "code",
   "execution_count": 17,
   "metadata": {},
   "outputs": [],
   "source": [
    "stopword_list = set([\n",
    "       'this', 'that', \"that'll\", 'these', 'those', 'am', 'is', 'are',\n",
    "       'was', 'were', 'be', 'been', 'being', 'have', 'has', 'had',\n",
    "       'having', 'do', 'does', 'did', 'doing', 'a', 'an', 'the', 'and',\n",
    "       'but', 'if', 'or', 'because', 'as', 'until', 'while', 'of', 'at',\n",
    "       'by', 'for', 'with', 'about', 'between', 'into',\n",
    "       'again', 'further', 'then', 'once', 'so', 'than', 'too', 'very', 's', 't', 'can', 'will',\n",
    "       'just', 'don', \"don't\", 'should', \"should've\", 'now', 'd', 'll',\n",
    "       'm', 'o', 're', 've', 'y', 'ain', 'aren', \"aren't\", 'couldn',\n",
    "       \"couldn't\", 'didn', \"didn't\", 'doesn', \"doesn't\", 'hadn', \"hadn't\",\n",
    "       'hasn', \"hasn't\", 'haven', \"haven't\", 'isn', \"isn't\", 'ma',\n",
    "       'mightn', \"mightn't\", 'mustn', \"mustn't\", 'needn', \"needn't\",\n",
    "       'shan', \"shan't\", 'shouldn', \"shouldn't\", 'wasn', \"wasn't\",\n",
    "       'weren', \"weren't\", 'won', \"won't\", 'wouldn', \"wouldn't\"\n",
    "])"
   ]
  },
  {
   "cell_type": "code",
   "execution_count": 18,
   "metadata": {
    "execution": {
     "iopub.execute_input": "2022-06-19T06:12:27.141976Z",
     "iopub.status.busy": "2022-06-19T06:12:27.141372Z",
     "iopub.status.idle": "2022-06-19T06:12:27.151061Z",
     "shell.execute_reply": "2022-06-19T06:12:27.150035Z",
     "shell.execute_reply.started": "2022-06-19T06:12:27.141929Z"
    }
   },
   "outputs": [],
   "source": [
    "def fix_contractions(text):    # expand contraction\n",
    "    return contractions.fix(text)\n",
    "\n",
    "def remove_punctuation(text):   # remove punctuations\n",
    "    return re.sub(r\"[^\\w\\d\\s]+\", '', text)\n",
    "\n",
    "def tokenize(text):   # tokenize\n",
    "    return word_tokenize(text)\n",
    "\n",
    "_stemmer = PorterStemmer()\n",
    "def stemmer(tokens):    # stemming\n",
    "    return [_stemmer.stem(word, to_lowercase = True) for word in tokens ]\n",
    "\n",
    "def remove_stopwords(tokens):   # remove stopwords\n",
    "    return \" \".join([token for token in tokens if token not in stopword_list])"
   ]
  },
  {
   "cell_type": "code",
   "execution_count": 19,
   "metadata": {
    "execution": {
     "iopub.execute_input": "2022-06-19T06:12:44.220082Z",
     "iopub.status.busy": "2022-06-19T06:12:44.219626Z",
     "iopub.status.idle": "2022-06-19T06:12:44.241784Z",
     "shell.execute_reply": "2022-06-19T06:12:44.240960Z",
     "shell.execute_reply.started": "2022-06-19T06:12:44.220045Z"
    }
   },
   "outputs": [
    {
     "name": "stdout",
     "output_type": "stream",
     "text": [
      "original: What's going on at 1234 Carrier Dr? He can't concentrate on his assignment!!\n",
      "\n",
      "remove contraction: What is going on at 1234 Carrier Dr? He cannot concentrate on his assignment!!\n",
      "\n",
      "remove punctuation: What is going on at 1234 Carrier Dr He cannot concentrate on his assignment\n",
      "\n",
      "tokenize: ['What', 'is', 'going', 'on', 'at', '1234', 'Carrier', 'Dr', 'He', 'can', 'not', 'concentrate', 'on', 'his', 'assignment']\n",
      "\n",
      "stemming: ['what', 'is', 'go', 'on', 'at', '1234', 'carrier', 'dr', 'he', 'can', 'not', 'concentr', 'on', 'hi', 'assign']\n",
      "\n",
      "remove stopwords: what go on 1234 carrier dr he not concentr on hi assign\n"
     ]
    }
   ],
   "source": [
    "sample = \"What's going on at 1234 Carrier Dr? He can't concentrate on his assignment!!\"\n",
    "print(\"original:\", sample)\n",
    "\n",
    "t2 = fix_contractions(sample)\n",
    "print(\"\\nremove contraction:\",t2)\n",
    "\n",
    "t3 = remove_punctuation(t2)\n",
    "print(\"\\nremove punctuation:\",t3)\n",
    "\n",
    "t4 = tokenize(t3)\n",
    "print(\"\\ntokenize:\", t4)\n",
    "\n",
    "t5 = stemmer(t4)\n",
    "print(\"\\nstemming:\", t5)\n",
    "\n",
    "t6 = remove_stopwords(t5)\n",
    "print(\"\\nremove stopwords:\", t6)"
   ]
  },
  {
   "cell_type": "code",
   "execution_count": 20,
   "metadata": {
    "execution": {
     "iopub.execute_input": "2022-06-19T06:16:40.421121Z",
     "iopub.status.busy": "2022-06-19T06:16:40.420505Z",
     "iopub.status.idle": "2022-06-19T06:16:40.427853Z",
     "shell.execute_reply": "2022-06-19T06:16:40.426571Z",
     "shell.execute_reply.started": "2022-06-19T06:16:40.421078Z"
    }
   },
   "outputs": [],
   "source": [
    "def process_text(text):\n",
    "    text = fix_contractions(text)\n",
    "    text = remove_punctuation(text)\n",
    "    text = tokenize(text)\n",
    "    text = stemmer(text)\n",
    "    return remove_stopwords(text)"
   ]
  },
  {
   "cell_type": "code",
   "execution_count": 21,
   "metadata": {},
   "outputs": [],
   "source": [
    "def process_questions(X):\n",
    "    X.question1 = X.question1.apply(process_text)\n",
    "    X.question2 = X.question2.apply(process_text)\n",
    "    return X"
   ]
  },
  {
   "cell_type": "code",
   "execution_count": 22,
   "metadata": {},
   "outputs": [
    {
     "data": {
      "text/html": [
       "<div>\n",
       "<style scoped>\n",
       "    .dataframe tbody tr th:only-of-type {\n",
       "        vertical-align: middle;\n",
       "    }\n",
       "\n",
       "    .dataframe tbody tr th {\n",
       "        vertical-align: top;\n",
       "    }\n",
       "\n",
       "    .dataframe thead th {\n",
       "        text-align: right;\n",
       "    }\n",
       "</style>\n",
       "<table border=\"1\" class=\"dataframe\">\n",
       "  <thead>\n",
       "    <tr style=\"text-align: right;\">\n",
       "      <th></th>\n",
       "      <th>question1</th>\n",
       "      <th>question2</th>\n",
       "    </tr>\n",
       "  </thead>\n",
       "  <tbody>\n",
       "    <tr>\n",
       "      <th>77536</th>\n",
       "      <td>How can I use \"Thus far\" in a formal writing?</td>\n",
       "      <td>What are the rules to be followed in formal em...</td>\n",
       "    </tr>\n",
       "    <tr>\n",
       "      <th>66062</th>\n",
       "      <td>What is the average download rate (not CTR) of...</td>\n",
       "      <td>What is the cost per install of iOS app in Fac...</td>\n",
       "    </tr>\n",
       "    <tr>\n",
       "      <th>45903</th>\n",
       "      <td>How do I recover my lost Gmail password if I d...</td>\n",
       "      <td>How do I reset my Gmail password when I don't ...</td>\n",
       "    </tr>\n",
       "    <tr>\n",
       "      <th>29329</th>\n",
       "      <td>What are common required and elective courses ...</td>\n",
       "      <td>What are common required and elective courses ...</td>\n",
       "    </tr>\n",
       "    <tr>\n",
       "      <th>1156</th>\n",
       "      <td>Why was The Nobel prize winning scientist Jame...</td>\n",
       "      <td>Is it true that \"Black People are Less Intelli...</td>\n",
       "    </tr>\n",
       "  </tbody>\n",
       "</table>\n",
       "</div>"
      ],
      "text/plain": [
       "                                               question1  \\\n",
       "77536      How can I use \"Thus far\" in a formal writing?   \n",
       "66062  What is the average download rate (not CTR) of...   \n",
       "45903  How do I recover my lost Gmail password if I d...   \n",
       "29329  What are common required and elective courses ...   \n",
       "1156   Why was The Nobel prize winning scientist Jame...   \n",
       "\n",
       "                                               question2  \n",
       "77536  What are the rules to be followed in formal em...  \n",
       "66062  What is the cost per install of iOS app in Fac...  \n",
       "45903  How do I reset my Gmail password when I don't ...  \n",
       "29329  What are common required and elective courses ...  \n",
       "1156   Is it true that \"Black People are Less Intelli...  "
      ]
     },
     "execution_count": 22,
     "metadata": {},
     "output_type": "execute_result"
    }
   ],
   "source": [
    "X_train.head()"
   ]
  },
  {
   "cell_type": "code",
   "execution_count": 23,
   "metadata": {},
   "outputs": [],
   "source": [
    "X_train = process_questions(X_train)\n",
    "X_val = process_questions(X_val)\n",
    "X_test = process_questions(X_test)"
   ]
  },
  {
   "cell_type": "code",
   "execution_count": 24,
   "metadata": {},
   "outputs": [
    {
     "data": {
      "text/html": [
       "<div>\n",
       "<style scoped>\n",
       "    .dataframe tbody tr th:only-of-type {\n",
       "        vertical-align: middle;\n",
       "    }\n",
       "\n",
       "    .dataframe tbody tr th {\n",
       "        vertical-align: top;\n",
       "    }\n",
       "\n",
       "    .dataframe thead th {\n",
       "        text-align: right;\n",
       "    }\n",
       "</style>\n",
       "<table border=\"1\" class=\"dataframe\">\n",
       "  <thead>\n",
       "    <tr style=\"text-align: right;\">\n",
       "      <th></th>\n",
       "      <th>question1</th>\n",
       "      <th>question2</th>\n",
       "    </tr>\n",
       "  </thead>\n",
       "  <tbody>\n",
       "    <tr>\n",
       "      <th>77536</th>\n",
       "      <td>how i use thu far in formal write</td>\n",
       "      <td>what rule to follow in formal email write i ge...</td>\n",
       "    </tr>\n",
       "    <tr>\n",
       "      <th>66062</th>\n",
       "      <td>what averag download rate not ctr mobil ad app...</td>\n",
       "      <td>what cost per instal io app in facebook new mo...</td>\n",
       "    </tr>\n",
       "    <tr>\n",
       "      <th>45903</th>\n",
       "      <td>how i recov my lost gmail password i not same ...</td>\n",
       "      <td>how i reset my gmail password when i not acces...</td>\n",
       "    </tr>\n",
       "    <tr>\n",
       "      <th>29329</th>\n",
       "      <td>what common requir elect cours in music</td>\n",
       "      <td>what common requir elect cours in theolog</td>\n",
       "    </tr>\n",
       "    <tr>\n",
       "      <th>1156</th>\n",
       "      <td>whi wa nobel prize win scientist jame watson s...</td>\n",
       "      <td>it true black peopl less intellig onc said dr ...</td>\n",
       "    </tr>\n",
       "  </tbody>\n",
       "</table>\n",
       "</div>"
      ],
      "text/plain": [
       "                                               question1  \\\n",
       "77536                  how i use thu far in formal write   \n",
       "66062  what averag download rate not ctr mobil ad app...   \n",
       "45903  how i recov my lost gmail password i not same ...   \n",
       "29329            what common requir elect cours in music   \n",
       "1156   whi wa nobel prize win scientist jame watson s...   \n",
       "\n",
       "                                               question2  \n",
       "77536  what rule to follow in formal email write i ge...  \n",
       "66062  what cost per instal io app in facebook new mo...  \n",
       "45903  how i reset my gmail password when i not acces...  \n",
       "29329          what common requir elect cours in theolog  \n",
       "1156   it true black peopl less intellig onc said dr ...  "
      ]
     },
     "execution_count": 24,
     "metadata": {},
     "output_type": "execute_result"
    }
   ],
   "source": [
    "X_train.head()"
   ]
  },
  {
   "cell_type": "markdown",
   "metadata": {},
   "source": [
    "## Vocabulary"
   ]
  },
  {
   "cell_type": "code",
   "execution_count": 25,
   "metadata": {},
   "outputs": [
    {
     "name": "stdout",
     "output_type": "stream",
     "text": [
      "the number of unique words in training set: 37176\n"
     ]
    }
   ],
   "source": [
    "q1_words = [word for question in X_train.question1.values for word in question.split(\" \")]\n",
    "q2_words = [word for question in X_train.question2.values for word in question.split(\" \")]\n",
    "unique_words = Counter(q1_words + q2_words) \n",
    "print(\"the number of unique words in training set:\", len(unique_words))"
   ]
  },
  {
   "cell_type": "code",
   "execution_count": 26,
   "metadata": {},
   "outputs": [
    {
     "name": "stdout",
     "output_type": "stream",
     "text": [
      "1st most frequent word: ('what', 68078)\n",
      "6000th most frequent word: ('xml', 13)\n"
     ]
    }
   ],
   "source": [
    "print(\"1st most frequent word:\", unique_words.most_common(1)[-1])\n",
    "print(\"6000th most frequent word:\", unique_words.most_common(6000)[-1])"
   ]
  },
  {
   "cell_type": "code",
   "execution_count": 27,
   "metadata": {},
   "outputs": [
    {
     "data": {
      "image/png": "[encoded data removed]",
      "text/plain": [
       "<Figure size 432x288 with 1 Axes>"
      ]
     },
     "metadata": {
      "needs_background": "light"
     },
     "output_type": "display_data"
    }
   ],
   "source": [
    "q1_sequence_len = [len(question.split(\" \")) for question in X_train.question1.values ]\n",
    "q2_sequence_len = [len(question.split(\" \")) for question in X_train.question2.values ]\n",
    "pd.Series(q1_sequence_len + q2_sequence_len).hist();"
   ]
  },
  {
   "cell_type": "code",
   "execution_count": 28,
   "metadata": {},
   "outputs": [
    {
     "name": "stdout",
     "output_type": "stream",
     "text": [
      "95% of the sequences with the length <= 17.0\n"
     ]
    }
   ],
   "source": [
    "print(\"95% of the sequences with the length <=\", np.quantile(q1_sequence_len + q2_sequence_len, 0.95))"
   ]
  },
  {
   "cell_type": "code",
   "execution_count": 29,
   "metadata": {},
   "outputs": [
    {
     "data": {
      "text/plain": [
       "6000"
      ]
     },
     "execution_count": 29,
     "metadata": {},
     "output_type": "execute_result"
    }
   ],
   "source": [
    "VOCAB_SIZE = 6000\n",
    "MAX_SEQUENCE_LEN = 17\n",
    "\n",
    "# A preprocessing layer which maps text features to integer sequences\n",
    "text_vector = TextVectorization(\n",
    "    max_tokens=VOCAB_SIZE,\n",
    "    standardize=None,\n",
    "    split='whitespace',\n",
    "    ngrams=None,\n",
    "    output_mode='int',\n",
    "    output_sequence_length=MAX_SEQUENCE_LEN,\n",
    "    pad_to_max_tokens=False)\n",
    "\n",
    "text_vector.adapt(pd.concat([X_train.question1, X_train.question2], axis = 0))\n",
    "text_vector.vocabulary_size()"
   ]
  },
  {
   "cell_type": "code",
   "execution_count": 30,
   "metadata": {},
   "outputs": [
    {
     "data": {
      "text/plain": [
       "'what rule to follow in formal email write i get replica'"
      ]
     },
     "execution_count": 30,
     "metadata": {},
     "output_type": "execute_result"
    }
   ],
   "source": [
    "X_train.question2.values[0]"
   ]
  },
  {
   "cell_type": "code",
   "execution_count": 31,
   "metadata": {},
   "outputs": [
    {
     "data": {
      "text/plain": [
       "<tf.Tensor: shape=(17,), dtype=int64, numpy=\n",
       "array([   2,  784,    5,  212,    6, 2295,  303,  154,    3,   14,    1,\n",
       "          0,    0,    0,    0,    0,    0], dtype=int64)>"
      ]
     },
     "execution_count": 31,
     "metadata": {},
     "output_type": "execute_result"
    }
   ],
   "source": [
    "text_vector(X_train.question2.values[0])"
   ]
  },
  {
   "cell_type": "code",
   "execution_count": 32,
   "metadata": {},
   "outputs": [],
   "source": [
    "def convert_text_to_sequence(X):\n",
    "    return text_vector(X.question1.values), text_vector(X.question2.values)\n",
    "    \n",
    "X_train_q1, X_train_q2 = convert_text_to_sequence(X_train)\n",
    "X_val_q1, X_val_q2 = convert_text_to_sequence(X_val)\n",
    "X_test_q1, X_test_q2 = convert_text_to_sequence(X_test)"
   ]
  },
  {
   "cell_type": "code",
   "execution_count": 33,
   "metadata": {},
   "outputs": [
    {
     "data": {
      "text/plain": [
       "<tf.Tensor: shape=(3, 17), dtype=int64, numpy=\n",
       "array([[   4,    3,   22, 5774, 1103,    6, 2295,  154,    0,    0,    0,\n",
       "           0,    0,    0,    0,    0,    0],\n",
       "       [   2,  234,  265,  366,   15,    1,  219,  694,  128,    6,  771,\n",
       "         128,    1,  189,    0,    0,    0],\n",
       "       [   4,    3,  550,   10,  634,  407,  275,    3,   15,  217,  100,\n",
       "          15,  902, 1151,  303,    0,    0]], dtype=int64)>"
      ]
     },
     "execution_count": 33,
     "metadata": {},
     "output_type": "execute_result"
    }
   ],
   "source": [
    "X_train_q1[:3]"
   ]
  },
  {
   "cell_type": "code",
   "execution_count": 34,
   "metadata": {},
   "outputs": [
    {
     "data": {
      "text/plain": [
       "['', '[UNK]', 'what', 'i', 'how', 'to', 'in', 'you', 'whi', 'it']"
      ]
     },
     "execution_count": 34,
     "metadata": {},
     "output_type": "execute_result"
    }
   ],
   "source": [
    "text_vector.get_vocabulary()[:10]"
   ]
  },
  {
   "cell_type": "markdown",
   "metadata": {},
   "source": [
    "# Model Building"
   ]
  },
  {
   "cell_type": "code",
   "execution_count": 35,
   "metadata": {},
   "outputs": [],
   "source": [
    "def history_plot(history):\n",
    "    plt.figure(figsize = (15,5));\n",
    "    \n",
    "    ax1 = plt.subplot(121);\n",
    "    ax1.plot(history[\"loss\"], color = 'r', marker = 'o', label = \"Train Loss\");\n",
    "    ax1.plot(history[\"val_loss\"], color = 'b',marker = 'o', label = \"Val Loss\");\n",
    "    plt.legend(loc=\"best\");\n",
    "    \n",
    "    ax2 = plt.subplot(122);    \n",
    "    ax2.plot(history[\"accuracy\"], color = 'r', marker = 'o', label = \"Train Accuracy\");\n",
    "    ax2.plot(history[\"val_accuracy\"], color = 'b', marker = 'o', label = \"Val Accuracy\");    \n",
    "    plt.legend(loc=\"best\");"
   ]
  },
  {
   "cell_type": "code",
   "execution_count": 36,
   "metadata": {},
   "outputs": [],
   "source": [
    "WORD_EMBEDDING_DIM = 32\n",
    "LEARNING_RATE = 0.0001\n",
    "\n",
    "def normalized_by_column(X):\n",
    "    return X / tf.norm(X, axis = 1, keepdims=True)  # normalized by column\n",
    "\n",
    "def cosine_similarity(v):\n",
    "    v1, v2 = v\n",
    "    v1, v2 = normalized_by_column(v1), normalized_by_column(v2)\n",
    "    cos = tf.reduce_sum(v1 * v2, axis = -1,keepdims= True)\n",
    "    return cos   # output -1 ~ 1\n",
    "\n",
    "def Siamese():\n",
    "    Input1 = Input(shape=(MAX_SEQUENCE_LEN, ))   # used to instantiate a Keras tensor.\n",
    "    Input2 = Input(shape=(MAX_SEQUENCE_LEN, ))\n",
    "    \n",
    "    base_net = Sequential([\n",
    "        Embedding(input_dim = VOCAB_SIZE, output_dim = WORD_EMBEDDING_DIM, input_length = MAX_SEQUENCE_LEN),\n",
    "        Bidirectional(LSTM(12, dropout = 0.4, return_sequences=True)),\n",
    "        Bidirectional(LSTM(12, dropout = 0.5, return_sequences=False)),\n",
    "        Dense(8, activation = 'elu'),\n",
    "    ])\n",
    "\n",
    "    v1 = base_net(Input1)  # convert tensor to numpy array\n",
    "    v2 = base_net(Input2)\n",
    "\n",
    "    distance = Lambda(function = cosine_similarity, name = \"similarity\")([v1, v2])\n",
    "    out = Dense(1, activation = 'sigmoid')(distance)\n",
    "    model = Model(inputs = [Input1, Input2], outputs = out)    \n",
    "    model.compile(loss=\"binary_crossentropy\", \n",
    "                  optimizer=tf.keras.optimizers.Adam(LEARNING_RATE), \n",
    "                  metrics=[\"accuracy\"])\n",
    "    \n",
    "    model.summary()\n",
    "    return model"
   ]
  },
  {
   "cell_type": "code",
   "execution_count": 37,
   "metadata": {},
   "outputs": [
    {
     "name": "stdout",
     "output_type": "stream",
     "text": [
      "Model: \"model\"\n",
      "__________________________________________________________________________________________________\n",
      " Layer (type)                   Output Shape         Param #     Connected to                     \n",
      "==================================================================================================\n",
      " input_1 (InputLayer)           [(None, 17)]         0           []                               \n",
      "                                                                                                  \n",
      " input_2 (InputLayer)           [(None, 17)]         0           []                               \n",
      "                                                                                                  \n",
      " sequential (Sequential)        (None, 8)            200072      ['input_1[0][0]',                \n",
      "                                                                  'input_2[0][0]']                \n",
      "                                                                                                  \n",
      " similarity (Lambda)            (None, 1)            0           ['sequential[0][0]',             \n",
      "                                                                  'sequential[1][0]']             \n",
      "                                                                                                  \n",
      " dense_1 (Dense)                (None, 1)            2           ['similarity[0][0]']             \n",
      "                                                                                                  \n",
      "==================================================================================================\n",
      "Total params: 200,074\n",
      "Trainable params: 200,074\n",
      "Non-trainable params: 0\n",
      "__________________________________________________________________________________________________\n"
     ]
    }
   ],
   "source": [
    "model = Siamese()"
   ]
  },
  {
   "cell_type": "code",
   "execution_count": 38,
   "metadata": {},
   "outputs": [
    {
     "name": "stdout",
     "output_type": "stream",
     "text": [
      "Epoch 1/100\n",
      "333/333 [==============================] - 30s 39ms/step - loss: 0.7216 - accuracy: 0.4958 - val_loss: 0.7567 - val_accuracy: 0.4803\n",
      "Epoch 2/100\n",
      "333/333 [==============================] - 9s 26ms/step - loss: 0.6979 - accuracy: 0.5275 - val_loss: 0.7391 - val_accuracy: 0.4863\n",
      "Epoch 3/100\n",
      "333/333 [==============================] - 9s 27ms/step - loss: 0.6852 - accuracy: 0.5519 - val_loss: 0.7220 - val_accuracy: 0.5083\n",
      "Epoch 4/100\n",
      "333/333 [==============================] - 8s 25ms/step - loss: 0.6745 - accuracy: 0.5717 - val_loss: 0.7103 - val_accuracy: 0.5184\n",
      "Epoch 5/100\n",
      "333/333 [==============================] - 9s 26ms/step - loss: 0.6651 - accuracy: 0.5886 - val_loss: 0.7018 - val_accuracy: 0.5325\n",
      "Epoch 6/100\n",
      "333/333 [==============================] - 8s 25ms/step - loss: 0.6572 - accuracy: 0.6059 - val_loss: 0.6910 - val_accuracy: 0.5427\n",
      "Epoch 7/100\n",
      "333/333 [==============================] - 10s 29ms/step - loss: 0.6488 - accuracy: 0.6215 - val_loss: 0.6830 - val_accuracy: 0.5527\n",
      "Epoch 8/100\n",
      "333/333 [==============================] - 9s 27ms/step - loss: 0.6419 - accuracy: 0.6340 - val_loss: 0.6764 - val_accuracy: 0.5585\n",
      "Epoch 9/100\n",
      "333/333 [==============================] - 9s 28ms/step - loss: 0.6345 - accuracy: 0.6494 - val_loss: 0.6706 - val_accuracy: 0.5664\n",
      "Epoch 10/100\n",
      "333/333 [==============================] - 9s 28ms/step - loss: 0.6280 - accuracy: 0.6614 - val_loss: 0.6666 - val_accuracy: 0.5735\n",
      "Epoch 11/100\n",
      "333/333 [==============================] - 10s 30ms/step - loss: 0.6220 - accuracy: 0.6712 - val_loss: 0.6594 - val_accuracy: 0.5837\n",
      "Epoch 12/100\n",
      "333/333 [==============================] - 10s 29ms/step - loss: 0.6178 - accuracy: 0.6759 - val_loss: 0.6548 - val_accuracy: 0.5856\n",
      "Epoch 13/100\n",
      "333/333 [==============================] - 9s 28ms/step - loss: 0.6116 - accuracy: 0.6865 - val_loss: 0.6512 - val_accuracy: 0.5932\n",
      "Epoch 14/100\n",
      "333/333 [==============================] - 9s 28ms/step - loss: 0.6047 - accuracy: 0.6970 - val_loss: 0.6473 - val_accuracy: 0.5979\n",
      "Epoch 15/100\n",
      "333/333 [==============================] - 10s 29ms/step - loss: 0.5999 - accuracy: 0.7025 - val_loss: 0.6429 - val_accuracy: 0.6016\n",
      "Epoch 16/100\n",
      "333/333 [==============================] - 9s 28ms/step - loss: 0.5941 - accuracy: 0.7099 - val_loss: 0.6398 - val_accuracy: 0.6061\n",
      "Epoch 17/100\n",
      "333/333 [==============================] - 9s 28ms/step - loss: 0.5889 - accuracy: 0.7133 - val_loss: 0.6363 - val_accuracy: 0.6112\n",
      "Epoch 18/100\n",
      "333/333 [==============================] - 9s 28ms/step - loss: 0.5831 - accuracy: 0.7221 - val_loss: 0.6324 - val_accuracy: 0.6164\n",
      "Epoch 19/100\n",
      "333/333 [==============================] - 10s 29ms/step - loss: 0.5781 - accuracy: 0.7257 - val_loss: 0.6290 - val_accuracy: 0.6241\n",
      "Epoch 20/100\n",
      "333/333 [==============================] - 9s 28ms/step - loss: 0.5736 - accuracy: 0.7301 - val_loss: 0.6251 - val_accuracy: 0.6240\n",
      "Epoch 21/100\n",
      "333/333 [==============================] - 9s 27ms/step - loss: 0.5687 - accuracy: 0.7347 - val_loss: 0.6224 - val_accuracy: 0.6316\n",
      "Epoch 22/100\n",
      "333/333 [==============================] - 9s 27ms/step - loss: 0.5635 - accuracy: 0.7387 - val_loss: 0.6207 - val_accuracy: 0.6299\n",
      "Epoch 23/100\n",
      "333/333 [==============================] - 9s 28ms/step - loss: 0.5580 - accuracy: 0.7425 - val_loss: 0.6187 - val_accuracy: 0.6316\n",
      "Epoch 24/100\n",
      "333/333 [==============================] - 10s 29ms/step - loss: 0.5547 - accuracy: 0.7463 - val_loss: 0.6140 - val_accuracy: 0.6380\n",
      "Epoch 25/100\n",
      "333/333 [==============================] - 9s 28ms/step - loss: 0.5500 - accuracy: 0.7509 - val_loss: 0.6120 - val_accuracy: 0.6400\n",
      "Epoch 26/100\n",
      "333/333 [==============================] - 9s 28ms/step - loss: 0.5451 - accuracy: 0.7533 - val_loss: 0.6089 - val_accuracy: 0.6452\n",
      "Epoch 27/100\n",
      "333/333 [==============================] - 10s 29ms/step - loss: 0.5402 - accuracy: 0.7587 - val_loss: 0.6061 - val_accuracy: 0.6464\n",
      "Epoch 28/100\n",
      "333/333 [==============================] - 9s 28ms/step - loss: 0.5368 - accuracy: 0.7594 - val_loss: 0.6041 - val_accuracy: 0.6461\n",
      "Epoch 29/100\n",
      "333/333 [==============================] - 9s 28ms/step - loss: 0.5322 - accuracy: 0.7628 - val_loss: 0.6035 - val_accuracy: 0.6468\n",
      "Epoch 30/100\n",
      "333/333 [==============================] - 9s 28ms/step - loss: 0.5277 - accuracy: 0.7658 - val_loss: 0.5990 - val_accuracy: 0.6528\n",
      "Epoch 31/100\n",
      "333/333 [==============================] - 9s 28ms/step - loss: 0.5225 - accuracy: 0.7714 - val_loss: 0.5971 - val_accuracy: 0.6529\n",
      "Epoch 32/100\n",
      "333/333 [==============================] - 9s 28ms/step - loss: 0.5201 - accuracy: 0.7700 - val_loss: 0.5947 - val_accuracy: 0.6561\n",
      "Epoch 33/100\n",
      "333/333 [==============================] - 9s 28ms/step - loss: 0.5169 - accuracy: 0.7730 - val_loss: 0.5937 - val_accuracy: 0.6563\n",
      "Epoch 34/100\n",
      "333/333 [==============================] - 9s 28ms/step - loss: 0.5126 - accuracy: 0.7758 - val_loss: 0.5901 - val_accuracy: 0.6641\n",
      "Epoch 35/100\n",
      "333/333 [==============================] - 9s 28ms/step - loss: 0.5085 - accuracy: 0.7782 - val_loss: 0.5884 - val_accuracy: 0.6683\n",
      "Epoch 36/100\n",
      "333/333 [==============================] - 10s 29ms/step - loss: 0.5054 - accuracy: 0.7801 - val_loss: 0.5874 - val_accuracy: 0.6687\n",
      "Epoch 37/100\n",
      "333/333 [==============================] - 10s 29ms/step - loss: 0.5001 - accuracy: 0.7842 - val_loss: 0.5857 - val_accuracy: 0.6683\n",
      "Epoch 38/100\n",
      "333/333 [==============================] - 10s 29ms/step - loss: 0.4972 - accuracy: 0.7867 - val_loss: 0.5833 - val_accuracy: 0.6703\n",
      "Epoch 39/100\n",
      "333/333 [==============================] - 9s 28ms/step - loss: 0.4949 - accuracy: 0.7844 - val_loss: 0.5818 - val_accuracy: 0.6717\n",
      "Epoch 40/100\n",
      "333/333 [==============================] - 9s 28ms/step - loss: 0.4914 - accuracy: 0.7877 - val_loss: 0.5820 - val_accuracy: 0.6729\n",
      "Epoch 41/100\n",
      "333/333 [==============================] - 9s 28ms/step - loss: 0.4877 - accuracy: 0.7916 - val_loss: 0.5813 - val_accuracy: 0.6733\n",
      "Epoch 42/100\n",
      "333/333 [==============================] - 10s 29ms/step - loss: 0.4839 - accuracy: 0.7915 - val_loss: 0.5803 - val_accuracy: 0.6721\n",
      "Epoch 43/100\n",
      "333/333 [==============================] - 10s 29ms/step - loss: 0.4816 - accuracy: 0.7921 - val_loss: 0.5768 - val_accuracy: 0.6800\n",
      "Epoch 44/100\n",
      "333/333 [==============================] - 10s 29ms/step - loss: 0.4784 - accuracy: 0.7962 - val_loss: 0.5761 - val_accuracy: 0.6779\n",
      "Epoch 45/100\n",
      "333/333 [==============================] - 9s 28ms/step - loss: 0.4752 - accuracy: 0.7963 - val_loss: 0.5769 - val_accuracy: 0.6747\n",
      "Epoch 46/100\n",
      "333/333 [==============================] - 10s 30ms/step - loss: 0.4730 - accuracy: 0.8001 - val_loss: 0.5769 - val_accuracy: 0.6807\n",
      "Epoch 47/100\n",
      "333/333 [==============================] - 10s 30ms/step - loss: 0.4704 - accuracy: 0.7988 - val_loss: 0.5741 - val_accuracy: 0.6788\n",
      "Epoch 48/100\n",
      "333/333 [==============================] - 10s 29ms/step - loss: 0.4666 - accuracy: 0.8016 - val_loss: 0.5747 - val_accuracy: 0.6777\n",
      "Epoch 49/100\n",
      "333/333 [==============================] - 11s 32ms/step - loss: 0.4632 - accuracy: 0.8019 - val_loss: 0.5735 - val_accuracy: 0.6769\n",
      "Epoch 50/100\n",
      "333/333 [==============================] - 10s 31ms/step - loss: 0.4607 - accuracy: 0.8056 - val_loss: 0.5714 - val_accuracy: 0.6837\n",
      "Epoch 51/100\n",
      "333/333 [==============================] - 10s 31ms/step - loss: 0.4578 - accuracy: 0.8062 - val_loss: 0.5709 - val_accuracy: 0.6795\n",
      "Epoch 52/100\n",
      "333/333 [==============================] - 10s 31ms/step - loss: 0.4557 - accuracy: 0.8070 - val_loss: 0.5679 - val_accuracy: 0.6819\n",
      "Epoch 53/100\n",
      "333/333 [==============================] - 10s 31ms/step - loss: 0.4533 - accuracy: 0.8061 - val_loss: 0.5670 - val_accuracy: 0.6863\n",
      "Epoch 54/100\n",
      "333/333 [==============================] - 11s 32ms/step - loss: 0.4506 - accuracy: 0.8083 - val_loss: 0.5676 - val_accuracy: 0.6851\n",
      "Epoch 55/100\n",
      "333/333 [==============================] - 11s 32ms/step - loss: 0.4479 - accuracy: 0.8107 - val_loss: 0.5680 - val_accuracy: 0.6816\n",
      "Epoch 56/100\n",
      "333/333 [==============================] - 10s 31ms/step - loss: 0.4458 - accuracy: 0.8110 - val_loss: 0.5673 - val_accuracy: 0.6832\n",
      "Epoch 57/100\n"
     ]
    },
    {
     "name": "stdout",
     "output_type": "stream",
     "text": [
      "333/333 [==============================] - 11s 33ms/step - loss: 0.4434 - accuracy: 0.8122 - val_loss: 0.5663 - val_accuracy: 0.6852\n",
      "Epoch 58/100\n",
      "333/333 [==============================] - 12s 35ms/step - loss: 0.4409 - accuracy: 0.8141 - val_loss: 0.5653 - val_accuracy: 0.6857\n",
      "Epoch 59/100\n",
      "333/333 [==============================] - 11s 33ms/step - loss: 0.4387 - accuracy: 0.8150 - val_loss: 0.5654 - val_accuracy: 0.6849\n",
      "Epoch 60/100\n",
      "333/333 [==============================] - 11s 33ms/step - loss: 0.4357 - accuracy: 0.8164 - val_loss: 0.5681 - val_accuracy: 0.6795\n",
      "Epoch 61/100\n",
      "333/333 [==============================] - 11s 34ms/step - loss: 0.4337 - accuracy: 0.8156 - val_loss: 0.5644 - val_accuracy: 0.6857\n",
      "Epoch 62/100\n",
      "333/333 [==============================] - 11s 33ms/step - loss: 0.4326 - accuracy: 0.8158 - val_loss: 0.5638 - val_accuracy: 0.6835\n",
      "Epoch 63/100\n",
      "333/333 [==============================] - 12s 35ms/step - loss: 0.4302 - accuracy: 0.8162 - val_loss: 0.5666 - val_accuracy: 0.6877\n",
      "Epoch 64/100\n",
      "333/333 [==============================] - 11s 33ms/step - loss: 0.4275 - accuracy: 0.8194 - val_loss: 0.5632 - val_accuracy: 0.6868\n",
      "Epoch 65/100\n",
      "333/333 [==============================] - 11s 32ms/step - loss: 0.4260 - accuracy: 0.8192 - val_loss: 0.5655 - val_accuracy: 0.6821\n",
      "Epoch 66/100\n",
      "333/333 [==============================] - 11s 33ms/step - loss: 0.4231 - accuracy: 0.8213 - val_loss: 0.5646 - val_accuracy: 0.6831\n",
      "Epoch 67/100\n",
      "333/333 [==============================] - 11s 33ms/step - loss: 0.4230 - accuracy: 0.8213 - val_loss: 0.5629 - val_accuracy: 0.6860\n",
      "Epoch 68/100\n",
      "333/333 [==============================] - 11s 33ms/step - loss: 0.4214 - accuracy: 0.8209 - val_loss: 0.5635 - val_accuracy: 0.6875\n",
      "Epoch 69/100\n",
      "333/333 [==============================] - 11s 32ms/step - loss: 0.4175 - accuracy: 0.8234 - val_loss: 0.5658 - val_accuracy: 0.6800\n",
      "Epoch 70/100\n",
      "333/333 [==============================] - 11s 32ms/step - loss: 0.4146 - accuracy: 0.8252 - val_loss: 0.5635 - val_accuracy: 0.6872\n",
      "Epoch 71/100\n",
      "333/333 [==============================] - 11s 33ms/step - loss: 0.4151 - accuracy: 0.8237 - val_loss: 0.5639 - val_accuracy: 0.6895\n",
      "Epoch 72/100\n",
      "333/333 [==============================] - 11s 33ms/step - loss: 0.4130 - accuracy: 0.8257 - val_loss: 0.5647 - val_accuracy: 0.6881\n"
     ]
    }
   ],
   "source": [
    "BATCH_SIZE = 256\n",
    "es = EarlyStopping(patience=5, restore_best_weights=True)\n",
    "EPOCHS = 100\n",
    "\n",
    "history = model.fit(x = [ X_train_q1, X_train_q2 ],\n",
    "                    y = y_train,  \n",
    "                    batch_size = BATCH_SIZE, \n",
    "                    validation_data = ([ X_val_q1, X_val_q2 ], y_val), \n",
    "                    validation_batch_size = BATCH_SIZE,\n",
    "                    callbacks=[es],                    \n",
    "                    epochs = EPOCHS)"
   ]
  },
  {
   "cell_type": "code",
   "execution_count": 39,
   "metadata": {},
   "outputs": [
    {
     "data": {
      "image/png": "[encoded data removed]",
      "text/plain": [
       "<Figure size 1080x360 with 2 Axes>"
      ]
     },
     "metadata": {
      "needs_background": "light"
     },
     "output_type": "display_data"
    }
   ],
   "source": [
    "history_plot(history.history)"
   ]
  },
  {
   "cell_type": "code",
   "execution_count": 40,
   "metadata": {},
   "outputs": [
    {
     "name": "stdout",
     "output_type": "stream",
     "text": [
      "Train:\n",
      "2657/2657 [==============================] - 11s 4ms/step - loss: 0.4041 - accuracy: 0.8283\n",
      "Validation:\n",
      "235/235 [==============================] - 1s 4ms/step - loss: 0.5629 - accuracy: 0.6860\n",
      "Test:\n",
      "235/235 [==============================] - 1s 4ms/step - loss: 0.5670 - accuracy: 0.6875\n"
     ]
    },
    {
     "data": {
      "text/plain": [
       "[0.5669995546340942, 0.6874666810035706]"
      ]
     },
     "execution_count": 40,
     "metadata": {},
     "output_type": "execute_result"
    }
   ],
   "source": [
    "print(\"Train:\")\n",
    "model.evaluate([X_train_q1, X_train_q2], y_train)\n",
    "print(\"Validation:\")\n",
    "model.evaluate([X_val_q1, X_val_q2], y_val)\n",
    "print(\"Test:\")\n",
    "model.evaluate([X_test_q1, X_test_q2], y_test)"
   ]
  },
  {
   "cell_type": "code",
   "execution_count": 41,
   "metadata": {},
   "outputs": [
    {
     "name": "stdout",
     "output_type": "stream",
     "text": [
      "235/235 [==============================] - 6s 4ms/step\n",
      "accuracy: 0.6874666666666667\n"
     ]
    }
   ],
   "source": [
    "THRESHOLD = 0.5\n",
    "\n",
    "y_pred = model.predict(x = [X_test_q1, X_test_q2]).flatten()\n",
    "y_label = (y_pred > THRESHOLD)\n",
    "print(\"accuracy:\", np.sum(y_label == y_test) / len(y_label))"
   ]
  },
  {
   "cell_type": "code",
   "execution_count": 42,
   "metadata": {},
   "outputs": [
    {
     "name": "stdout",
     "output_type": "stream",
     "text": [
      "Recall: 0.8433908045977011\n",
      "Precision: 0.5516917293233082\n"
     ]
    },
    {
     "data": {
      "image/png": "[encoded data removed]",
      "text/plain": [
       "<Figure size 432x288 with 2 Axes>"
      ]
     },
     "metadata": {
      "needs_background": "light"
     },
     "output_type": "display_data"
    }
   ],
   "source": [
    "cm = confusion_matrix(y_test, y_label)\n",
    "sns.heatmap(pd.DataFrame(cm, index = [0,1], columns = [0,1]), annot = True, fmt = 'd');\n",
    "plt.xlabel(\"Prediction\");\n",
    "plt.ylabel(\"Ground Truth\");\n",
    "print(\"Recall:\", recall_score(y_test, y_label))\n",
    "print(\"Precision:\", precision_score(y_test, y_label))"
   ]
  },
  {
   "cell_type": "code",
   "execution_count": 43,
   "metadata": {},
   "outputs": [],
   "source": [
    "# idx = (y_label != y_test)\n",
    "# error_samples = pd.concat([X_test[idx], y_test[idx], pd.Series(y_pred[idx], index = y_test[idx].index, name = \"pred\")], \n",
    "#           axis = 1).sample(20, random_state = 5)\n",
    "# error_samples"
   ]
  },
  {
   "cell_type": "code",
   "execution_count": 44,
   "metadata": {},
   "outputs": [],
   "source": [
    "# for i in error_samples.index:\n",
    "#     print(i, quora.loc[i, [\"question1\",\"question2\", \"is_duplicate\"]].values)\n",
    "#     print()"
   ]
  },
  {
   "cell_type": "code",
   "execution_count": null,
   "metadata": {},
   "outputs": [],
   "source": []
  }
 ],
 "metadata": {
  "kernelspec": {
   "display_name": "Python 3 (ipykernel)",
   "language": "python",
   "name": "python3"
  },
  "language_info": {
   "codemirror_mode": {
    "name": "ipython",
    "version": 3
   },
   "file_extension": ".py",
   "mimetype": "text/x-python",
   "name": "python",
   "nbconvert_exporter": "python",
   "pygments_lexer": "ipython3",
   "version": "3.9.12"
  }
 },
 "nbformat": 4,
 "nbformat_minor": 4
}
